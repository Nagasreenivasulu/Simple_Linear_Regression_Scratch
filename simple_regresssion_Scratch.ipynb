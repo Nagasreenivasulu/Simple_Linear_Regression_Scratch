{
 "cells": [
  {
   "cell_type": "code",
   "execution_count": 1,
   "metadata": {},
   "outputs": [],
   "source": [
    "import numpy as np\n",
    "import matplotlib.pyplot as plt\n",
    "import pandas as pd"
   ]
  },
  {
   "cell_type": "code",
   "execution_count": 2,
   "metadata": {},
   "outputs": [],
   "source": [
    "def load_data():\n",
    "    dataset = pd.read_csv('Salary_Data.csv')\n",
    "    return dataset"
   ]
  },
  {
   "cell_type": "code",
   "execution_count": 3,
   "metadata": {},
   "outputs": [],
   "source": [
    "def dataset_XY():\n",
    "    dataset = load_data()\n",
    "    X = dataset.iloc[:, :-1].values\n",
    "    Y = dataset.iloc[:, 1].values\n",
    "    return [X,Y]"
   ]
  },
  {
   "cell_type": "code",
   "execution_count": 4,
   "metadata": {},
   "outputs": [
    {
     "name": "stderr",
     "output_type": "stream",
     "text": [
      "/home/hduser/anaconda3/lib/python3.6/site-packages/sklearn/cross_validation.py:41: DeprecationWarning: This module was deprecated in version 0.18 in favor of the model_selection module into which all the refactored classes and functions are moved. Also note that the interface of the new CV iterators are different from that of this module. This module will be removed in 0.20.\n",
      "  \"This module will be removed in 0.20.\", DeprecationWarning)\n"
     ]
    }
   ],
   "source": [
    "from sklearn.cross_validation import train_test_split\n",
    "def splitXYTrain(X, Y, testSize):\n",
    "    x_train, x_test, y_train, y_test = train_test_split(X, Y, test_size=testSize, random_state = 0)\n",
    "    return [x_train, x_test, y_train, y_test]\n",
    "    "
   ]
  },
  {
   "cell_type": "code",
   "execution_count": 5,
   "metadata": {},
   "outputs": [
    {
     "name": "stdout",
     "output_type": "stream",
     "text": [
      "YearsExperience    0\n",
      "Salary             0\n",
      "dtype: int64\n"
     ]
    }
   ],
   "source": [
    "dataset = load_data()\n",
    "X, Y = dataset_XY()\n",
    "dataset.head()\n",
    "print(dataset.isnull().sum())"
   ]
  },
  {
   "cell_type": "code",
   "execution_count": 6,
   "metadata": {},
   "outputs": [],
   "source": [
    "x_train, x_test, y_train, y_test = splitXYTrain(X, Y, 0.2)"
   ]
  },
  {
   "cell_type": "code",
   "execution_count": 7,
   "metadata": {},
   "outputs": [],
   "source": [
    "def xy_mean(x_train, y_train):\n",
    "    x_mean = sum(x_train)/len(x_train)\n",
    "    y_mean = sum(y_train)/len(y_train)\n",
    "    return [x_mean, y_mean]"
   ]
  },
  {
   "cell_type": "code",
   "execution_count": 8,
   "metadata": {},
   "outputs": [
    {
     "name": "stdout",
     "output_type": "stream",
     "text": [
      "[5.05833333]\n",
      "73886.20833333333\n"
     ]
    }
   ],
   "source": [
    "x_mean, y_mean = xy_mean(x_train, y_train)\n",
    "print(x_mean)\n",
    "print(y_mean)"
   ]
  },
  {
   "cell_type": "code",
   "execution_count": 9,
   "metadata": {},
   "outputs": [
    {
     "name": "stdout",
     "output_type": "stream",
     "text": [
      "[9312.57512673] [26780.09915063]\n"
     ]
    }
   ],
   "source": [
    "numer = 0\n",
    "denom = 0\n",
    "m = len(x_train)\n",
    "for i in range(m):\n",
    "    numer += (x_train[i] - x_mean) * (y_train[i] - y_mean)\n",
    "    denom += (x_train[i] - x_mean)**2\n",
    "b1 = numer / denom\n",
    "b0 = y_mean - (b1*x_mean)\n",
    "print(b1, b0)"
   ]
  },
  {
   "cell_type": "code",
   "execution_count": 10,
   "metadata": {},
   "outputs": [
    {
     "name": "stdout",
     "output_type": "stream",
     "text": [
      "[[116180.82036723]\n",
      " [ 64030.39965754]\n",
      " [ 76136.74732229]\n",
      " [100349.44265179]\n",
      " [ 53786.56701814]\n",
      " [ 74274.23229695]\n",
      " [ 56580.33955616]\n",
      " [ 68686.68722091]\n",
      " [103143.21518981]\n",
      " [ 90105.61001239]\n",
      " [ 38886.44681538]\n",
      " [124562.13798128]\n",
      " [ 54717.82453082]\n",
      " [ 47267.76442943]\n",
      " [ 81724.29239833]\n",
      " [ 82655.549911  ]\n",
      " [ 61236.62711953]\n",
      " [ 56580.33955616]\n",
      " [110593.27529119]\n",
      " [ 45405.24940409]\n",
      " [ 37023.93179003]\n",
      " [ 92899.38255041]\n",
      " [ 72411.7172716 ]\n",
      " [ 64030.39965754]]\n"
     ]
    }
   ],
   "source": [
    "#y_pred = []\n",
    "#for i in range(len(x_test)):\n",
    "#    y_pred1 = theta0 + (theta1 * x_test[i])\n",
    "#    y_pred.append(y_pred1)\n",
    "#print(y_pred)\n",
    "y_pred = b0 + b1*x_train\n",
    "print(y_pred)"
   ]
  },
  {
   "cell_type": "code",
   "execution_count": 11,
   "metadata": {},
   "outputs": [
    {
     "data": {
      "image/png": "[encoded data removed]",
      "text/plain": [
       "<Figure size 432x288 with 1 Axes>"
      ]
     },
     "metadata": {},
     "output_type": "display_data"
    }
   ],
   "source": [
    "plt.scatter(x_train, y_train)\n",
    "plt.plot(x_train, y_pred, color='r')\n",
    "plt.show()"
   ]
  },
  {
   "cell_type": "code",
   "execution_count": null,
   "metadata": {},
   "outputs": [],
   "source": []
  }
 ],
 "metadata": {
  "kernelspec": {
   "display_name": "Python 3",
   "language": "python",
   "name": "python3"
  },
  "language_info": {
   "codemirror_mode": {
    "name": "ipython",
    "version": 3
   },
   "file_extension": ".py",
   "mimetype": "text/x-python",
   "name": "python",
   "nbconvert_exporter": "python",
   "pygments_lexer": "ipython3",
   "version": "3.6.6"
  }
 },
 "nbformat": 4,
 "nbformat_minor": 2
}
